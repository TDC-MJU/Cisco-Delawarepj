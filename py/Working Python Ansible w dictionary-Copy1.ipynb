{
 "cells": [
  {
   "cell_type": "code",
   "execution_count": 1,
   "metadata": {},
   "outputs": [],
   "source": [
    "#!/usr/bin/env python\n",
    "import bottle as bt\n",
    "import returnData\n",
    "\n",
    "##add these below to new files\n",
    "import urllib2  \n",
    "import json  \n",
    "import sqlite3\n",
    "import shutil\n",
    "import os\n",
    "import yaml\n",
    "##\n",
    "import ruamel.yaml\n",
    "from ruamel.yaml.util import load_yaml_guess_indent\n",
    "\n",
    "##saving stdout to variable\n",
    "from cStringIO import StringIO\n",
    "import sys\n",
    "\n",
    "from collections import namedtuple\n",
    "from ansible.parsing.dataloader import DataLoader\n",
    "from ansible.vars.manager import VariableManager\n",
    "from ansible.inventory.manager import InventoryManager\n",
    "from ansible.playbook.play import Play\n",
    "from ansible.executor.task_queue_manager import TaskQueueManager\n",
    "from ansible.plugins.callback import CallbackBase\n",
    "from ansible.executor.playbook_executor import PlaybookExecutor\n",
    "import ansible.constants as C\n",
    "\n",
    "class ResultCallback(CallbackBase):\n",
    "    \"\"\"A sample callback plugin used for performing an action as results come in\n",
    "\n",
    "    If you want to collect all results into a single object for processing at\n",
    "    the end of the execution, look into utilizing the ``json`` callback plugin\n",
    "    or writing your own custom callback plugin\n",
    "    \"\"\"\n",
    "    def __init__(self):\n",
    "        super(ResultCallback, self).__init__()\n",
    "        self.results = []\n",
    "        \n",
    "    def v2_runner_on_ok(self, result, **kwargs):\n",
    "        \"\"\"Print a json representation of the result\n",
    "\n",
    "        This method could store the result in an instance attribute for retrieval later\n",
    "        \"\"\"\n",
    "        self.results.append(result)\n",
    "        print \"hi\"\n",
    "        host = result._host\n",
    "        print(json.dumps({host.name: result._result}, indent=4))\n",
    "#This file should be located in /YourApp/py/\n",
    "#Therefore, the file location should be /YourApp/py/runWebAppServer.py\n",
    "#Do not forget to chmod 755 this file before running on your linux server\n",
    "\n",
    "def run_playbook(ansible_items):\n",
    "    print '0'\n",
    "    #print pb_vars\n",
    "    #old_stdout = sys.stdout\n",
    "    #sys.stdout = mystdout = StringIO()\n",
    "    #print '1'\n",
    "    playbook_name = ansible_items[0]\n",
    "    archive_path = 'playbooks/'\n",
    "    playbook_folder = playbook_name+'/'\n",
    "    loader = DataLoader()\n",
    "    inventory_file_path = archive_path+playbook_folder+'inventory'\n",
    "    #print inventory_file_path\n",
    "    callback = ResultCallback()\n",
    "    \n",
    "    #put file path of inventory file inside sources\n",
    "    inventory = InventoryManager(loader=loader, sources=[inventory_file_path])\n",
    "    try:\n",
    "        if not os.path.exists(archive_path + playbook_folder + playbook_name+'.yml'):\n",
    "            playbook_path = archive_path + playbook_folder + playbook_name+'.yaml'\n",
    "            print \"Playbook file is using .yaml\"\n",
    "    except:\n",
    "        print \"hi\"       \n",
    "    try:\n",
    "        if not os.path.exists(archive_path + playbook_folder + playbook_name+'.yaml'):\n",
    "            playbook_path = archive_path + playbook_folder + playbook_name+'.yml'\n",
    "            print \"Playbook file is using .yml\"\n",
    "    except:\n",
    "        print \"hey\"\n",
    "    variable_manager = VariableManager(loader=loader, inventory=inventory)\n",
    "    #print '2'\n",
    "    #print out hosts under type 'dns'\n",
    "    if not os.path.exists(inventory_file_path):\n",
    "        print '[INFO] The inventory does not exist'\n",
    "        sys.exit()\n",
    "    #print(inventory.get_groups_dict()['dns'])\n",
    "    if not os.path.exists(playbook_path):\n",
    "        print '[INFO] The playbook does not exist'\n",
    "        sys.exit()\n",
    "    #had to add 'diff' into named tuple & diff=false into Options\n",
    "    Options = namedtuple('Options', ['listtags', 'listtasks', 'listhosts', 'syntax', 'connection','module_path', 'forks', 'remote_user', 'private_key_file', 'ssh_common_args', 'ssh_extra_args', 'sftp_extra_args', 'scp_extra_args', 'become', 'become_method', 'become_user', 'verbosity', 'check', 'diff'])\n",
    "    options = Options(listtags=False, listtasks=False, listhosts=False, syntax=False, connection='paramiko', module_path=None, forks=100, remote_user='tbo2', private_key_file=None, ssh_common_args=None, ssh_extra_args=None, sftp_extra_args=None, scp_extra_args=None, become=None, become_method=None, become_user=None, verbosity=None, check=False, diff=False)\n",
    "\n",
    "    #defining playbook variables in variable manager\n",
    "    vars_dict = {}\n",
    "    if playbook_name == 'ping':\n",
    "        print('trying')\n",
    "        #vars_dict['ip'] = pb_vars\n",
    "        #print('printing vars dict: '+ vars_dict)\n",
    "        variable_manager.extra_vars = {'ip':ansible_items[1]} # This can accomodate various other command line arguments.\n",
    "    #vars_dict.update(pb_vars)\n",
    "    #print vars_dict\n",
    "    elif len(ansible_items) > 1:\n",
    "        x = extra_variables(ansible_items[1])\n",
    "        variable_manager.extra_vars = x\n",
    "    \n",
    "    passwords = {}\n",
    "    pbex = PlaybookExecutor(playbooks=[playbook_path], inventory=inventory, variable_manager=variable_manager, loader=loader, options=options, passwords=passwords)\n",
    "    #pbex._tqm._stdout_callback = callback\n",
    "    #print pbex._tqm._stdout_callback\n",
    "    result = pbex.run()\n",
    "    \n",
    "    #sys.stdout = old_stdout\n",
    "    #string = mystdout.getvalue()\n",
    "    \n",
    "    \n",
    "    #d = string.split('TASK [debug] *******************************************************************')[-1].split('{', 1)[-1].split('PLAY RECAP *********************************************************************')[0].strip()\n",
    "    #d = '{'+d\n",
    "\n",
    "    #import ast\n",
    "    #string = ast.literal_eval(d)\n",
    "\n",
    "    #p = '```'+string+'```'\n",
    "    return result\n",
    "    #return string['msg']\n",
    "def extra_variables(pb_vars):\n",
    "    vars_dict = {}\n",
    "    pb_list = pb_vars.split(';')\n",
    "    for variable in pb_list:\n",
    "        item = variable.split(':')\n",
    "        key = str(item[0]).strip()\n",
    "        value = str(item[1]).strip()\n",
    "        vars_dict[key] = value\n",
    "    print vars_dict\n",
    "    return vars_dict"
   ]
  },
  {
   "cell_type": "code",
   "execution_count": 14,
   "metadata": {},
   "outputs": [
    {
     "name": "stdout",
     "output_type": "stream",
     "text": [
      "0\n",
      "Playbook file is using .yml\n",
      "\n",
      "PLAY [ENSURE TENANT CONFIGURATION EXISTS] **************************************\n",
      "\n",
      "TASK [CREATE TENANT] ***********************************************************\n",
      "ok: [sandboxapicdc.cisco.com]\n",
      "\n",
      "TASK [debug] *******************************************************************\n",
      "ok: [sandboxapicdc.cisco.com] => {\n",
      "    \"msg\": {\n",
      "        \"changed\": false, \n",
      "        \"current\": [\n",
      "            {\n",
      "                \"fvTenant\": {\n",
      "                    \"attributes\": {\n",
      "                        \"descr\": \"Tenant Created Using Ansible\", \n",
      "                        \"dn\": \"uni/tn-default\", \n",
      "                        \"name\": \"default\", \n",
      "                        \"nameAlias\": \"\", \n",
      "                        \"ownerKey\": \"\", \n",
      "                        \"ownerTag\": \"\"\n",
      "                    }\n",
      "                }\n",
      "            }\n",
      "        ], \n",
      "        \"failed\": false\n",
      "    }\n",
      "}\n",
      "\n",
      "PLAY RECAP *********************************************************************\n",
      "sandboxapicdc.cisco.com    : ok=2    changed=0    unreachable=0    failed=0   \n",
      "\n",
      "<type 'int'>\n"
     ]
    }
   ],
   "source": [
    "string = run_playbook([\"createtenant\"])\n",
    "print type(string)"
   ]
  },
  {
   "cell_type": "code",
   "execution_count": null,
   "metadata": {},
   "outputs": [],
   "source": [
    "print string"
   ]
  },
  {
   "cell_type": "code",
   "execution_count": null,
   "metadata": {},
   "outputs": [],
   "source": [
    "x = string\n",
    "walk_dict_new(x)\n"
   ]
  },
  {
   "cell_type": "code",
   "execution_count": null,
   "metadata": {},
   "outputs": [],
   "source": [
    "def walk_dict_new(d,depth=0):\n",
    "    s = ''\n",
    "    for k,v in sorted(d,key=lambda x: x[0]):\n",
    "        if isinstance(v, dict):\n",
    "            if depth > 0:\n",
    "                x = '\\n' + (\"  \")*depth + (\"%s\" % k)\n",
    "            else:\n",
    "                x = '\\n' + (\"  \")*depth + (\"%s\" % k)\n",
    "            \n",
    "            print x\n",
    "            s+=x\n",
    "            walk_dict(v,depth+1)\n",
    "        else:\n",
    "            if depth > 0:\n",
    "                y = '\\n' +(\"  \")*depth + \"%s %s\" % (k, v)\n",
    "            else:\n",
    "                y = '\\n' + (\"  \")*depth + \" %s %s\" % (k, v)\n",
    "            s+=y\n",
    "            print y\n",
    "    return s\n"
   ]
  },
  {
   "cell_type": "code",
   "execution_count": null,
   "metadata": {},
   "outputs": [],
   "source": [
    "print s"
   ]
  },
  {
   "cell_type": "code",
   "execution_count": null,
   "metadata": {},
   "outputs": [],
   "source": [
    "def walk_dict_editted(d,depth=0):\n",
    "    for k,v in sorted(d.items(),key=lambda x: x[0]):\n",
    "        if isinstance(v, dict):\n",
    "            if depth > 0:\n",
    "                x = '\\n -' + (\"  \")*depth + (\"%s\" % k)\n",
    "            else:\n",
    "                x = (\"  \")*depth + (\"%s\" % k)\n",
    "            print x\n",
    "            walk_dict(v,depth+1)\n",
    "        else:\n",
    "            if depth > 0:\n",
    "                y = '\\n -' +(\"  \")*depth + \"%s %s\" % (k, v)\n",
    "            else:\n",
    "                y = (\"  \")*depth + \"%s %s\" % (k, v)\n",
    "            print y \n"
   ]
  },
  {
   "cell_type": "code",
   "execution_count": null,
   "metadata": {},
   "outputs": [],
   "source": [
    "\n",
    "p = 'https://www.youtube.com/watch?v='+string['msg']['items'][0]['id']['videoId']\n",
    "print type(p)\n",
    "string = '```'+p+'````'\n",
    "print string"
   ]
  },
  {
   "cell_type": "code",
   "execution_count": null,
   "metadata": {},
   "outputs": [],
   "source": []
  },
  {
   "cell_type": "code",
   "execution_count": null,
   "metadata": {},
   "outputs": [],
   "source": [
    "eeee = string.split('TASK [debug] *******************************************************************')[-1].strip\n",
    "print eeee"
   ]
  },
  {
   "cell_type": "code",
   "execution_count": null,
   "metadata": {},
   "outputs": [],
   "source": [
    "eeee = eeee.split('{', 1)[-1]\n",
    "print eeee"
   ]
  },
  {
   "cell_type": "code",
   "execution_count": null,
   "metadata": {},
   "outputs": [],
   "source": [
    "eeee = eeee.split('PLAY RECAP *********************************************************************')[0]\n",
    "d = eeee.strip()\n",
    "d = '{'+d\n",
    "#d = json.load(d)\n",
    "import ast\n",
    "d = ast.literal_eval(d)\n",
    "p = 'https://www.youtube.com/watch?v='+d['msg']['items'][0]['id']['videoId']\n",
    "string = '```'+str(p)+'````'"
   ]
  },
  {
   "cell_type": "code",
   "execution_count": null,
   "metadata": {},
   "outputs": [],
   "source": [
    "playbook_name = 'umbrella'\n",
    "archive_path = 'playbooks/'\n",
    "playbook_folder = playbook_name+'/'\n",
    "try:\n",
    "    if not os.path.exists(archive_path + playbook_folder + playbook_name+'.yml'):\n",
    "        playbook_path = archive_path + playbook_folder + playbook_name+'.yaml'\n",
    "        print \"Playbook file is using .yaml\"\n",
    "except:\n",
    "    print \"hi\"       \n",
    "try:\n",
    "    if not os.path.exists(archive_path + playbook_folder + playbook_name+'.yaml'):\n",
    "        playbook_path = archive_path + playbook_folder + playbook_name+'.yml'\n",
    "        print \"Playbook file is using .yml\"\n",
    "except:\n",
    "    print \"hey\"\n",
    "with open(playbook_path, 'r') as f:\n",
    "    doc = yaml.load(f)\n",
    "    yaml = doc[0]\n",
    "print yaml['vars']"
   ]
  },
  {
   "cell_type": "code",
   "execution_count": null,
   "metadata": {},
   "outputs": [],
   "source": [
    "print type(info_dict)"
   ]
  },
  {
   "cell_type": "code",
   "execution_count": null,
   "metadata": {},
   "outputs": [],
   "source": [
    "\n",
    "print \"got here\"\n",
    "with open(playbook_path) as d:\n",
    "    print \"next\"\n",
    "    data = yaml.load(d)\n",
    "    print \"okay\"\n",
    "print doc\n",
    "yaml = doc[0]\n",
    "yaml = yaml['vars']\n",
    "formatted_yaml_vars = \"The variables you can modify are:\"\n",
    "for key, value in yaml.iteritems():\n",
    "    formatted_yaml_vars+= \"\\n- \"+str(key)+\" : \"+str(value)\n",
    "print formatted_yaml_vars"
   ]
  },
  {
   "cell_type": "code",
   "execution_count": null,
   "metadata": {},
   "outputs": [],
   "source": [
    "playbook_name = 'umbrella'\n",
    "archive_path = 'playbooks/'\n",
    "playbook_folder = playbook_name+'/'\n",
    "try:\n",
    "    if not os.path.exists(archive_path + playbook_folder + playbook_name+'.yml'):\n",
    "            playbook_path = archive_path + playbook_folder + playbook_name+'.yaml'\n",
    "            print \"Playbook file is using .yaml\"\n",
    "except:\n",
    "    print \"hi\"       \n",
    "try:\n",
    "    if not os.path.exists(archive_path + playbook_folder + playbook_name+'.yaml'):\n",
    "        playbook_path = archive_path + playbook_folder + playbook_name+'.yml'\n",
    "        print \"Playbook file is using .yml\"\n",
    "except:\n",
    "    print \"hey\"\n",
    "config, ind, bsi = load_yaml_guess_indent(open(playbook_path))\n",
    "print(type(config))\n",
    "\n"
   ]
  },
  {
   "cell_type": "code",
   "execution_count": null,
   "metadata": {},
   "outputs": [],
   "source": [
    "print(config[0])"
   ]
  },
  {
   "cell_type": "code",
   "execution_count": null,
   "metadata": {},
   "outputs": [],
   "source": [
    "yaml = config[0]"
   ]
  },
  {
   "cell_type": "code",
   "execution_count": null,
   "metadata": {},
   "outputs": [],
   "source": [
    "print yaml['vars']"
   ]
  },
  {
   "cell_type": "code",
   "execution_count": null,
   "metadata": {},
   "outputs": [],
   "source": [
    "print len(yaml)"
   ]
  },
  {
   "cell_type": "code",
   "execution_count": null,
   "metadata": {},
   "outputs": [],
   "source": [
    "formatted_yaml_vars = \"The variables you can modify are:\"\n",
    "yaml = yaml['vars']\n",
    "for key, value in yaml.iteritems():\n",
    "    formatted_yaml_vars+= \"\\n- \"+str(key)+\" : \"+str(value)\n",
    "print formatted_yaml_vars"
   ]
  },
  {
   "cell_type": "code",
   "execution_count": null,
   "metadata": {},
   "outputs": [],
   "source": [
    "def get_vars_playbook(filename):\n",
    "    print filename\n",
    "    playbook_name = filename.replace(\" \", \"\")\n",
    "    print playbook_name+\"1\"\n",
    "    archive_path = 'playbooks/'\n",
    "    playbook_folder = playbook_name+'/'\n",
    "    try:\n",
    "        if not os.path.exists(archive_path + playbook_folder + playbook_name+'.yml'):\n",
    "            playbook_path = archive_path + playbook_folder + playbook_name+'.yaml'\n",
    "            print \"Playbook file is using .yaml\"\n",
    "    except:\n",
    "        print \"hi\"       \n",
    "    try:\n",
    "        if not os.path.exists(archive_path + playbook_folder + playbook_name+'.yaml'):\n",
    "            playbook_path = archive_path + playbook_folder + playbook_name+'.yml'\n",
    "            print \"Playbook file is using .yml\"\n",
    "    except:\n",
    "        print \"hey\"\n",
    "    print \"got here get variables\"\n",
    "    print playbook_path\n",
    "    config, ind, bsi = load_yaml_guess_indent(open(playbook_path))\n",
    "    yaml = config[0]\n",
    "    print \"next part\"\n",
    "    print yaml\n",
    "    formatted_yaml_vars = \"The variables you can modify are:\"\n",
    "    yaml = yaml['vars']\n",
    "    for key, value in yaml.iteritems():\n",
    "        formatted_yaml_vars+= \"\\n- \"+str(key)+\" : \"+str(value)\n",
    "    return formatted_yaml_vars"
   ]
  },
  {
   "cell_type": "code",
   "execution_count": null,
   "metadata": {},
   "outputs": [],
   "source": [
    "get_vars_playbook('umbrella')"
   ]
  },
  {
   "cell_type": "code",
   "execution_count": null,
   "metadata": {},
   "outputs": [],
   "source": []
  }
 ],
 "metadata": {
  "kernelspec": {
   "display_name": "Python 2",
   "language": "python",
   "name": "python2"
  },
  "language_info": {
   "codemirror_mode": {
    "name": "ipython",
    "version": 2
   },
   "file_extension": ".py",
   "mimetype": "text/x-python",
   "name": "python",
   "nbconvert_exporter": "python",
   "pygments_lexer": "ipython2",
   "version": "2.7.14"
  }
 },
 "nbformat": 4,
 "nbformat_minor": 2
}
