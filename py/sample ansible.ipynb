{
 "cells": [
  {
   "cell_type": "code",
   "execution_count": null,
   "metadata": {},
   "outputs": [],
   "source": [
    "import os\n",
    "import sys\n",
    "from collections import namedtuple\n",
    "\n",
    "from ansible.parsing.dataloader import DataLoader\n",
    "from ansible.vars import VariableManager\n",
    "from ansible.inventory import Inventory\n",
    "from ansible.executor.playbook_executor import PlaybookExecutor\n",
    "\n",
    "variable_manager = VariableManager()\n",
    "loader = DataLoader()\n",
    "\n",
    "inventory = Inventory(loader=loader, variable_manager=variable_manager,  host_list='/home/slotlocker/hosts2')\n",
    "playbook_path = '/home/slotlocker/ls.yml'\n",
    "\n",
    "if not os.path.exists(playbook_path):\n",
    "    print '[INFO] The playbook does not exist'\n",
    "    sys.exit()\n",
    "\n",
    "Options = namedtuple('Options', ['listtags', 'listtasks', 'listhosts', 'syntax', 'connection','module_path', 'forks', 'remote_user', 'private_key_file', 'ssh_common_args', 'ssh_extra_args', 'sftp_extra_args', 'scp_extra_args', 'become', 'become_method', 'become_user', 'verbosity', 'check'])\n",
    "options = Options(listtags=False, listtasks=False, listhosts=False, syntax=False, connection='ssh', module_path=None, forks=100, remote_user='slotlocker', private_key_file=None, ssh_common_args=None, ssh_extra_args=None, sftp_extra_args=None, scp_extra_args=None, become=True, become_method=None, become_user='root', verbosity=None, check=False)\n",
    "\n",
    "variable_manager.extra_vars = {'hosts': 'mywebserver'} # This can accomodate various other command line arguments.`\n",
    "\n",
    "passwords = {}\n",
    "\n",
    "pbex = PlaybookExecutor(playbooks=[playbook_path], inventory=inventory, variable_manager=variable_manager, loader=loader, options=options, passwords=passwords)\n",
    "\n",
    "results = pbex.run()"
   ]
  }
 ],
 "metadata": {
  "kernelspec": {
   "display_name": "Python 2",
   "language": "python",
   "name": "python2"
  },
  "language_info": {
   "codemirror_mode": {
    "name": "ipython",
    "version": 2
   },
   "file_extension": ".py",
   "mimetype": "text/x-python",
   "name": "python",
   "nbconvert_exporter": "python",
   "pygments_lexer": "ipython2",
   "version": "2.7.14"
  }
 },
 "nbformat": 4,
 "nbformat_minor": 2
}
