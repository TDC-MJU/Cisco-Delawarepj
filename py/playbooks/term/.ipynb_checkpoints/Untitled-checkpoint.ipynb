{
 "cells": [
  {
   "cell_type": "code",
   "execution_count": 10,
   "metadata": {},
   "outputs": [],
   "source": [
    "#!/usr/bin/env python\n",
    "\n",
    "import json\n",
    "import shutil\n",
    "from collections import namedtuple\n",
    "from ansible.parsing.dataloader import DataLoader\n",
    "from ansible.vars.manager import VariableManager\n",
    "from ansible.inventory.manager import InventoryManager\n",
    "from ansible.playbook.play import Play\n",
    "from ansible.executor.task_queue_manager import TaskQueueManager\n",
    "from ansible.plugins.callback import CallbackBase\n",
    "import ansible.constants as C\n",
    "\n",
    "class ResultCallback(CallbackBase):\n",
    "    \"\"\"A sample callback plugin used for performing an action as results come in\n",
    "\n",
    "    If you want to collect all results into a single object for processing at\n",
    "    the end of the execution, look into utilizing the ``json`` callback plugin\n",
    "    or writing your own custom callback plugin\n",
    "    \"\"\"\n",
    "    def v2_runner_on_ok(self, result, **kwargs):\n",
    "        \"\"\"Print a json representation of the result\n",
    "\n",
    "        This method could store the result in an instance attribute for retrieval later\n",
    "        \"\"\"\n",
    "        host = result._host\n",
    "        print(json.dumps({host.name: result._result}, indent=4))"
   ]
  },
  {
   "cell_type": "code",
   "execution_count": 21,
   "metadata": {},
   "outputs": [
    {
     "name": "stdout",
     "output_type": "stream",
     "text": [
      "{\n",
      "    \"localhost\": {\n",
      "        \"include_variables\": {\n",
      "            \"_raw_params\": \"ls\"\n",
      "        }, \n",
      "        \"changed\": false\n",
      "    }\n",
      "}\n"
     ]
    },
    {
     "ename": "AttributeError",
     "evalue": "'Task' object has no attribute 'FROM_ARGS'",
     "output_type": "error",
     "traceback": [
      "\u001b[0;31m---------------------------------------------------------------------------\u001b[0m",
      "\u001b[0;31mAttributeError\u001b[0m                            Traceback (most recent call last)",
      "\u001b[0;32m<ipython-input-21-68d454e4508f>\u001b[0m in \u001b[0;36m<module>\u001b[0;34m()\u001b[0m\n\u001b[1;32m     37\u001b[0m               \u001b[0mstdout_callback\u001b[0m\u001b[0;34m=\u001b[0m\u001b[0mresults_callback\u001b[0m\u001b[0;34m,\u001b[0m  \u001b[0;31m# Use our custom callback instead of the ``default`` callback plugin\u001b[0m\u001b[0;34m\u001b[0m\u001b[0m\n\u001b[1;32m     38\u001b[0m           )\n\u001b[0;32m---> 39\u001b[0;31m     \u001b[0mresult\u001b[0m \u001b[0;34m=\u001b[0m \u001b[0mtqm\u001b[0m\u001b[0;34m.\u001b[0m\u001b[0mrun\u001b[0m\u001b[0;34m(\u001b[0m\u001b[0mplay\u001b[0m\u001b[0;34m)\u001b[0m\u001b[0;34m\u001b[0m\u001b[0m\n\u001b[0m\u001b[1;32m     40\u001b[0m \u001b[0;34m\u001b[0m\u001b[0m\n\u001b[1;32m     41\u001b[0m \u001b[0;32mfinally\u001b[0m\u001b[0;34m:\u001b[0m\u001b[0;34m\u001b[0m\u001b[0m\n",
      "\u001b[0;32m/Users/tbo2/anaconda2/envs/delawarepj/lib/python2.7/site-packages/ansible/executor/task_queue_manager.pyc\u001b[0m in \u001b[0;36mrun\u001b[0;34m(self, play)\u001b[0m\n\u001b[1;32m    288\u001b[0m \u001b[0;34m\u001b[0m\u001b[0m\n\u001b[1;32m    289\u001b[0m         \u001b[0;31m# and run the play using the strategy and cleanup on way out\u001b[0m\u001b[0;34m\u001b[0m\u001b[0;34m\u001b[0m\u001b[0m\n\u001b[0;32m--> 290\u001b[0;31m         \u001b[0mplay_return\u001b[0m \u001b[0;34m=\u001b[0m \u001b[0mstrategy\u001b[0m\u001b[0;34m.\u001b[0m\u001b[0mrun\u001b[0m\u001b[0;34m(\u001b[0m\u001b[0miterator\u001b[0m\u001b[0;34m,\u001b[0m \u001b[0mplay_context\u001b[0m\u001b[0;34m)\u001b[0m\u001b[0;34m\u001b[0m\u001b[0m\n\u001b[0m\u001b[1;32m    291\u001b[0m \u001b[0;34m\u001b[0m\u001b[0m\n\u001b[1;32m    292\u001b[0m         \u001b[0;31m# now re-save the hosts that failed from the iterator to our internal list\u001b[0m\u001b[0;34m\u001b[0m\u001b[0;34m\u001b[0m\u001b[0m\n",
      "\u001b[0;32m/Users/tbo2/anaconda2/envs/delawarepj/lib/python2.7/site-packages/ansible/plugins/strategy/linear.pyc\u001b[0m in \u001b[0;36mrun\u001b[0;34m(self, iterator, play_context)\u001b[0m\n\u001b[1;32m    300\u001b[0m                         \u001b[0miterator\u001b[0m\u001b[0;34m=\u001b[0m\u001b[0miterator\u001b[0m\u001b[0;34m,\u001b[0m\u001b[0;34m\u001b[0m\u001b[0m\n\u001b[1;32m    301\u001b[0m                         \u001b[0mloader\u001b[0m\u001b[0;34m=\u001b[0m\u001b[0mself\u001b[0m\u001b[0;34m.\u001b[0m\u001b[0m_loader\u001b[0m\u001b[0;34m,\u001b[0m\u001b[0;34m\u001b[0m\u001b[0m\n\u001b[0;32m--> 302\u001b[0;31m                         \u001b[0mvariable_manager\u001b[0m\u001b[0;34m=\u001b[0m\u001b[0mself\u001b[0m\u001b[0;34m.\u001b[0m\u001b[0m_variable_manager\u001b[0m\u001b[0;34m\u001b[0m\u001b[0m\n\u001b[0m\u001b[1;32m    303\u001b[0m                     )\n\u001b[1;32m    304\u001b[0m                 \u001b[0;32mexcept\u001b[0m \u001b[0mAnsibleError\u001b[0m \u001b[0;32mas\u001b[0m \u001b[0me\u001b[0m\u001b[0;34m:\u001b[0m\u001b[0;34m\u001b[0m\u001b[0m\n",
      "\u001b[0;32m/Users/tbo2/anaconda2/envs/delawarepj/lib/python2.7/site-packages/ansible/playbook/included_file.pyc\u001b[0m in \u001b[0;36mprocess_include_results\u001b[0;34m(results, iterator, loader, variable_manager)\u001b[0m\n\u001b[1;32m    148\u001b[0m \u001b[0;34m\u001b[0m\u001b[0m\n\u001b[1;32m    149\u001b[0m                         \u001b[0moriginal_task\u001b[0m\u001b[0;34m.\u001b[0m\u001b[0m_role_name\u001b[0m \u001b[0;34m=\u001b[0m \u001b[0mrole_name\u001b[0m\u001b[0;34m\u001b[0m\u001b[0m\n\u001b[0;32m--> 150\u001b[0;31m                         \u001b[0;32mfor\u001b[0m \u001b[0mfrom_arg\u001b[0m \u001b[0;32min\u001b[0m \u001b[0moriginal_task\u001b[0m\u001b[0;34m.\u001b[0m\u001b[0mFROM_ARGS\u001b[0m\u001b[0;34m:\u001b[0m\u001b[0;34m\u001b[0m\u001b[0m\n\u001b[0m\u001b[1;32m    151\u001b[0m                             \u001b[0;32mif\u001b[0m \u001b[0mfrom_arg\u001b[0m \u001b[0;32min\u001b[0m \u001b[0minclude_variables\u001b[0m\u001b[0;34m:\u001b[0m\u001b[0;34m\u001b[0m\u001b[0m\n\u001b[1;32m    152\u001b[0m                                 \u001b[0mfrom_key\u001b[0m \u001b[0;34m=\u001b[0m \u001b[0mfrom_arg\u001b[0m\u001b[0;34m.\u001b[0m\u001b[0mreplace\u001b[0m\u001b[0;34m(\u001b[0m\u001b[0;34m'_from'\u001b[0m\u001b[0;34m,\u001b[0m \u001b[0;34m''\u001b[0m\u001b[0;34m)\u001b[0m\u001b[0;34m\u001b[0m\u001b[0m\n",
      "\u001b[0;31mAttributeError\u001b[0m: 'Task' object has no attribute 'FROM_ARGS'"
     ]
    }
   ],
   "source": [
    "Options = namedtuple('Options', ['connection', 'module_path', 'forks', 'become', 'become_method', 'become_user', 'check', 'diff'])\n",
    "# initialize needed objects\n",
    "loader = DataLoader()\n",
    "options = Options(connection='local', module_path=['/path/to/mymodules'], forks=100, become=None, become_method=None, become_user=None, check=False,\n",
    "                  diff=False)\n",
    "passwords = dict(vault_pass='secret')\n",
    "\n",
    "# Instantiate our ResultCallback for handling results as they come in\n",
    "results_callback = ResultCallback()\n",
    "\n",
    "# create inventory and pass to var manager\n",
    "# use path to host config file as source or hosts in a comma separated string\n",
    "inventory = InventoryManager(loader=loader, sources='localhost,')\n",
    "variable_manager = VariableManager(loader=loader, inventory=inventory)\n",
    "\n",
    "# create play with tasks\n",
    "play_source =  dict(\n",
    "        name = \"Ansible Play\",\n",
    "        hosts = 'localhost',\n",
    "        gather_facts = 'no',\n",
    "        tasks = [\n",
    "            dict(action=dict(module='include_role', args='name: ls'), register='shell_out'),\n",
    "            dict(action=dict(module='debug', args=dict(msg='{{shell_out.stdout}}')))\n",
    "         ]\n",
    "    )\n",
    "play = Play().load(play_source, variable_manager=variable_manager, loader=loader)\n",
    "\n",
    "# actually run it\n",
    "tqm = None\n",
    "try:\n",
    "    tqm = TaskQueueManager(\n",
    "              inventory=inventory,\n",
    "              variable_manager=variable_manager,\n",
    "              loader=loader,\n",
    "              options=options,\n",
    "              passwords=passwords,\n",
    "              stdout_callback=results_callback,  # Use our custom callback instead of the ``default`` callback plugin\n",
    "          )\n",
    "    result = tqm.run(play)\n",
    "    \n",
    "finally:\n",
    "    if tqm is not None:\n",
    "        tqm.cleanup()\n",
    "\n",
    "\n",
    "    shutil.rmtree(C.DEFAULT_LOCAL_TMP, True)\n"
   ]
  },
  {
   "cell_type": "code",
   "execution_count": null,
   "metadata": {},
   "outputs": [],
   "source": []
  }
 ],
 "metadata": {
  "kernelspec": {
   "display_name": "Python 2",
   "language": "python",
   "name": "python2"
  },
  "language_info": {
   "codemirror_mode": {
    "name": "ipython",
    "version": 2
   },
   "file_extension": ".py",
   "mimetype": "text/x-python",
   "name": "python",
   "nbconvert_exporter": "python",
   "pygments_lexer": "ipython2",
   "version": "2.7.14"
  }
 },
 "nbformat": 4,
 "nbformat_minor": 2
}
